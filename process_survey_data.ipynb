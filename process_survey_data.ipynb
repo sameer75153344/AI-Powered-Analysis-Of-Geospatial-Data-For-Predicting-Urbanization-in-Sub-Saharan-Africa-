{
 "cells": [
  {
   "cell_type": "markdown",
   "metadata": {},
   "source": []
  },
  {
   "cell_type": "code",
   "execution_count": 1,
   "metadata": {
    "ExecuteTime": {
     "end_time": "2024-04-23T23:24:52.553723200Z",
     "start_time": "2024-04-23T23:24:48.693637400Z"
    }
   },
   "outputs": [],
   "source": [
    "import pandas as pd\n",
    "import numpy as np\n",
    "import os\n",
    "import geoio"
   ]
  },
  {
   "cell_type": "code",
   "execution_count": 2,
   "metadata": {
    "ExecuteTime": {
     "end_time": "2024-04-23T23:24:56.117071300Z",
     "start_time": "2024-04-23T23:24:56.078069400Z"
    }
   },
   "outputs": [],
   "source": [
    "BASE_DIR = '..'\n",
    "NIGHTLIGHTS_DIRS = [os.path.join(BASE_DIR, 'data/nightlights/viirs_2015_00N060W.tif'),\n",
    "                    os.path.join(BASE_DIR, 'data/nightlights/viirs_2015_75N060W.tif')]\n",
    "\n",
    "COUNTRIES_DIR = os.path.join(BASE_DIR, 'data', 'countries')"
   ]
  },
  {
   "cell_type": "code",
   "execution_count": 3,
   "metadata": {
    "ExecuteTime": {
     "end_time": "2024-04-23T23:25:02.166929300Z",
     "start_time": "2024-04-23T23:24:57.811864200Z"
    }
   },
   "outputs": [],
   "source": [
    "import sys\n",
    "sys.path.append(BASE_DIR)\n",
    "from utils import create_space"
   ]
  },
  {
   "cell_type": "code",
   "execution_count": 4,
   "metadata": {
    "ExecuteTime": {
     "end_time": "2024-04-23T23:25:04.288096200Z",
     "start_time": "2024-04-23T23:25:04.259086600Z"
    }
   },
   "outputs": [],
   "source": [
    "def process_malawi():\n",
    "    lsms_dir = os.path.join(COUNTRIES_DIR, 'malawi_2016', 'LSMS')\n",
    "    consumption_file = 'consumption_aggregate/IHS4 Consumption Aggregate.csv'\n",
    "    consumption_ph_col = 'rexpagg'  # per household\n",
    "    hhsize_col = 'hhsize'  # people in household\n",
    "\n",
    "    geovariables_file = 'household_geovariables/householdgeovariablesihs4.csv'\n",
    "    lat_col = 'lat_modified'\n",
    "    lon_col = 'lon_modified'\n",
    "    ppp = 215.182 #purchasing power parity\n",
    "\n",
    "    for file in [consumption_file, geovariables_file]:\n",
    "        assert os.path.isfile(os.path.join(lsms_dir, file)), print(f'Could not find {file}')\n",
    "\n",
    "    df = pd.read_csv(os.path.join(lsms_dir, consumption_file))\n",
    "    df['cons_ph'] = df[consumption_ph_col]\n",
    "    df['pph'] = df[hhsize_col]\n",
    "    df['cons_ph'] = df['cons_ph'] / ppp / 365\n",
    "    df = df[['case_id', 'cons_ph', 'pph']]\n",
    "\n",
    "    df_geo = pd.read_csv(os.path.join(lsms_dir, geovariables_file))\n",
    "    df_cords = df_geo[['case_id', 'HHID', lat_col, lon_col]].copy()  # Make a copy of the subset\n",
    "    df_cords.rename(columns={lat_col: 'cluster_lat', lon_col: 'cluster_lon'}, inplace=True)\n",
    "    df_combined = pd.merge(df, df_cords, on='case_id')\n",
    "    df_combined.drop(['case_id', 'HHID'], axis=1, inplace=True)\n",
    "    df_combined.dropna(inplace=True)  # Can't use NA values\n",
    "\n",
    "    df_clusters = df_combined.groupby(['cluster_lat', 'cluster_lon']).sum().reset_index()\n",
    "    df_clusters['cons_pc'] = df_clusters['cons_ph'] / df_clusters['pph']  # Divides total cluster income by people\n",
    "    df_clusters['country'] = 'mw'\n",
    "    return df_clusters[['country', 'cluster_lat', 'cluster_lon', 'cons_pc']]\n",
    "\n",
    "\n",
    "def process_ethiopia():\n",
    "    lsms_dir = os.path.join(COUNTRIES_DIR, 'ethiopia_2015', 'LSMS')\n",
    "    consumption_file = 'Consumption Aggregate/cons_agg_w3.csv'\n",
    "    consumption_pc_col = 'total_cons_ann'  # per capita\n",
    "    hhsize_col = 'hh_size'  # people in household\n",
    "\n",
    "    geovariables_file = 'Geovariables/ETH_HouseholdGeovars_y3.csv'\n",
    "    lat_col = 'lat_dd_mod'\n",
    "    lon_col = 'lon_dd_mod'\n",
    "    ppp = 7.882\n",
    "\n",
    "    for file in [consumption_file, geovariables_file]:\n",
    "        assert os.path.isfile(os.path.join(lsms_dir, file)), print(f'Could not find {file}')\n",
    "\n",
    "    df = pd.read_csv(os.path.join(lsms_dir, consumption_file))\n",
    "    df['cons_ph'] = df[consumption_pc_col] * df[hhsize_col]\n",
    "    df['pph'] = df[hhsize_col]\n",
    "    df['cons_ph'] = df['cons_ph'] / ppp / 365\n",
    "    df = df[['household_id2', 'cons_ph', 'pph']]\n",
    "\n",
    "    df_geo = pd.read_csv(os.path.join(lsms_dir, geovariables_file))\n",
    "    df_cords = df_geo[['household_id2', lat_col, lon_col]].copy()  # Make a copy of the subset\n",
    "    df_cords.rename(columns={lat_col: 'cluster_lat', lon_col: 'cluster_lon'}, inplace=True)\n",
    "    df_combined = pd.merge(df, df_cords, on='household_id2')\n",
    "    df_combined.drop(['household_id2'], axis=1, inplace=True)\n",
    "    df_combined.dropna(inplace=True)  # Can't use NA values\n",
    "\n",
    "    df_clusters = df_combined.groupby(['cluster_lat', 'cluster_lon']).sum().reset_index()\n",
    "    df_clusters['cons_pc'] = df_clusters['cons_ph'] / df_clusters['pph']  # Divides total cluster income by people\n",
    "    df_clusters['country'] = 'eth'\n",
    "    return df_clusters[['country', 'cluster_lat', 'cluster_lon', 'cons_pc']]\n",
    "\n",
    "def process_nigeria():\n",
    "    lsms_dir = os.path.join(COUNTRIES_DIR, 'nigeria_2015', 'LSMS')\n",
    "    consumption_file = 'cons_agg_wave3_visit1.csv'\n",
    "    consumption_pc_col = 'totcons'  # per capita\n",
    "    hhsize_col = 'hhsize'  # people in household\n",
    "\n",
    "    geovariables_file = 'nga_householdgeovars_y3.csv'\n",
    "    lat_col = 'LAT_DD_MOD'\n",
    "    lon_col = 'LON_DD_MOD'\n",
    "    ppp = 95.255\n",
    "\n",
    "    for file in [consumption_file, geovariables_file]:\n",
    "        assert os.path.isfile(os.path.join(lsms_dir, file)), print(f'Could not find {file}')\n",
    "\n",
    "    df = pd.read_csv(os.path.join(lsms_dir, consumption_file))\n",
    "    df['cons_ph'] = df[consumption_pc_col] * df[hhsize_col]\n",
    "    df['pph'] = df[hhsize_col]\n",
    "    df['cons_ph'] = df['cons_ph'] / ppp / 365\n",
    "    df = df[['hhid', 'cons_ph', 'pph']]\n",
    "\n",
    "    df_geo = pd.read_csv(os.path.join(lsms_dir, geovariables_file))\n",
    "    df_cords = df_geo[['hhid', lat_col, lon_col]].copy()  # Make a copy of the subset\n",
    "    df_cords.rename(columns={lat_col: 'cluster_lat', lon_col: 'cluster_lon'}, inplace=True)\n",
    "    df_combined = pd.merge(df, df_cords, on='hhid')\n",
    "    df_combined.drop(['hhid'], axis=1, inplace=True)\n",
    "    df_combined.dropna(inplace=True)  # Can't use NA values\n",
    "\n",
    "    df_clusters = df_combined.groupby(['cluster_lat', 'cluster_lon']).sum().reset_index()\n",
    "    df_clusters['cons_pc'] = df_clusters['cons_ph'] / df_clusters['pph']  # Divides total cluster income by people\n",
    "    df_clusters['country'] = 'ng'\n",
    "    return df_clusters[['country', 'cluster_lat', 'cluster_lon', 'cons_pc']]"
   ]
  },
  {
   "cell_type": "code",
   "execution_count": 5,
   "metadata": {
    "ExecuteTime": {
     "end_time": "2024-04-23T23:25:07.370831600Z",
     "start_time": "2024-04-23T23:25:07.122831500Z"
    }
   },
   "outputs": [],
   "source": [
    "df_mw = process_malawi()"
   ]
  },
  {
   "cell_type": "code",
   "execution_count": 6,
   "metadata": {
    "ExecuteTime": {
     "end_time": "2024-04-23T23:25:15.199031700Z",
     "start_time": "2024-04-23T23:25:15.122032100Z"
    }
   },
   "outputs": [],
   "source": [
    "df_eth = process_ethiopia()"
   ]
  },
  {
   "cell_type": "code",
   "execution_count": 7,
   "metadata": {
    "ExecuteTime": {
     "end_time": "2024-04-23T23:25:28.334884200Z",
     "start_time": "2024-04-23T23:25:28.229626200Z"
    }
   },
   "outputs": [],
   "source": [
    "df_ng = process_nigeria()"
   ]
  },
  {
   "cell_type": "code",
   "execution_count": 8,
   "metadata": {
    "ExecuteTime": {
     "end_time": "2024-04-23T23:25:31.549233200Z",
     "start_time": "2024-04-23T23:25:31.499233800Z"
    }
   },
   "outputs": [
    {
     "data": {
      "text/plain": "((780, 4), (523, 4), (664, 4))"
     },
     "execution_count": 8,
     "metadata": {},
     "output_type": "execute_result"
    }
   ],
   "source": [
    "df_mw.shape, df_eth.shape, df_ng.shape"
   ]
  },
  {
   "cell_type": "code",
   "execution_count": 9,
   "metadata": {
    "ExecuteTime": {
     "end_time": "2024-04-23T23:25:34.738209500Z",
     "start_time": "2024-04-23T23:25:34.619158400Z"
    }
   },
   "outputs": [],
   "source": [
    "tifs = [geoio.GeoImage(ndir) for ndir in NIGHTLIGHTS_DIRS]"
   ]
  },
  {
   "cell_type": "code",
   "execution_count": 10,
   "metadata": {
    "ExecuteTime": {
     "end_time": "2024-04-23T23:25:47.835976900Z",
     "start_time": "2024-04-23T23:25:38.118278Z"
    }
   },
   "outputs": [],
   "source": [
    "# loading both of these into memory requires A LOT of free memory (at least 4 gigs)\n",
    "# using a swapfile of size 2 GB still did not fix my issues\n",
    "# instead, I knew ahead of time the 0th tif is for Malawi, and the 1st tif is for Ethiopia and Nigeria\n",
    "# I'll use this to only load one tif at a time\n",
    "\n",
    "# thankfully, the countries did not span across two tifs\n",
    "tif_array = np.squeeze(tifs[0].get_data())"
   ]
  },
  {
   "cell_type": "code",
   "execution_count": 11,
   "metadata": {
    "ExecuteTime": {
     "end_time": "2024-04-23T23:25:51.211690100Z",
     "start_time": "2024-04-23T23:25:51.195669500Z"
    }
   },
   "outputs": [],
   "source": [
    "def add_nightlights(df, tif, tif_array):\n",
    "    ''' \n",
    "    This takes a dataframe with columns cluster_lat, cluster_lon and finds the average \n",
    "    nightlights using a 10kmx10km box around the point\n",
    "    '''\n",
    "    cluster_nightlights = []\n",
    "    for i,r in df.iterrows():\n",
    "        min_lat, min_lon, max_lat, max_lon = create_space(r.cluster_lat, r.cluster_lon)\n",
    "        \n",
    "        xminPixel, ymaxPixel = tif.proj_to_raster(min_lon, min_lat)\n",
    "        xmaxPixel, yminPixel = tif.proj_to_raster(max_lon, max_lat)\n",
    "        assert xminPixel < xmaxPixel, print(r.cluster_lat, r.cluster_lon)\n",
    "        assert yminPixel < ymaxPixel, print(r.cluster_lat, r.cluster_lon)\n",
    "        if xminPixel < 0 or xmaxPixel >= tif_array.shape[1]:\n",
    "            print(f\"no match for {r.cluster_lat}, {r.cluster_lon}\")\n",
    "            raise ValueError()\n",
    "        elif yminPixel < 0 or ymaxPixel >= tif_array.shape[0]:\n",
    "            print(f\"no match for {r.cluster_lat}, {r.cluster_lon}\")\n",
    "            raise ValueError()\n",
    "        xminPixel, yminPixel, xmaxPixel, ymaxPixel = int(xminPixel), int(yminPixel), int(xmaxPixel), int(ymaxPixel)\n",
    "        cluster_nightlights.append(tif_array[yminPixel:ymaxPixel,xminPixel:xmaxPixel].mean())\n",
    "        \n",
    "    df['nightlights'] = cluster_nightlights"
   ]
  },
  {
   "cell_type": "code",
   "execution_count": 12,
   "metadata": {
    "ExecuteTime": {
     "end_time": "2024-04-23T23:25:53.789564Z",
     "start_time": "2024-04-23T23:25:53.567084900Z"
    }
   },
   "outputs": [],
   "source": [
    "add_nightlights(df_mw, tifs[0], tif_array)"
   ]
  },
  {
   "cell_type": "code",
   "execution_count": 13,
   "metadata": {
    "ExecuteTime": {
     "end_time": "2024-04-23T23:25:56.248658400Z",
     "start_time": "2024-04-23T23:25:55.152185Z"
    }
   },
   "outputs": [
    {
     "data": {
      "text/plain": "0"
     },
     "execution_count": 13,
     "metadata": {},
     "output_type": "execute_result"
    }
   ],
   "source": [
    "del tif_array\n",
    "import gc\n",
    "gc.collect()"
   ]
  },
  {
   "cell_type": "code",
   "execution_count": 14,
   "metadata": {
    "ExecuteTime": {
     "end_time": "2024-04-23T23:25:59.674416300Z",
     "start_time": "2024-04-23T23:25:59.635408200Z"
    }
   },
   "outputs": [
    {
     "data": {
      "text/plain": "svmem(total=8373600256, available=2237952000, percent=73.3, used=6135648256, free=2237952000)"
     },
     "execution_count": 14,
     "metadata": {},
     "output_type": "execute_result"
    }
   ],
   "source": [
    "import psutil\n",
    "psutil.virtual_memory()"
   ]
  },
  {
   "cell_type": "code",
   "execution_count": 15,
   "metadata": {
    "ExecuteTime": {
     "end_time": "2024-04-23T23:26:07.903272Z",
     "start_time": "2024-04-23T23:26:05.959004Z"
    }
   },
   "outputs": [],
   "source": [
    "tif_array = np.squeeze(tifs[1].get_data())"
   ]
  },
  {
   "cell_type": "code",
   "execution_count": 16,
   "metadata": {
    "ExecuteTime": {
     "end_time": "2024-04-23T23:26:12.283192600Z",
     "start_time": "2024-04-23T23:26:12.201193500Z"
    }
   },
   "outputs": [],
   "source": [
    "add_nightlights(df_eth, tifs[1], tif_array)"
   ]
  },
  {
   "cell_type": "code",
   "execution_count": 17,
   "metadata": {
    "ExecuteTime": {
     "end_time": "2024-04-23T23:26:21.461558300Z",
     "start_time": "2024-04-23T23:26:21.392561200Z"
    }
   },
   "outputs": [],
   "source": [
    "add_nightlights(df_ng, tifs[1], tif_array)"
   ]
  },
  {
   "cell_type": "code",
   "execution_count": 18,
   "metadata": {
    "ExecuteTime": {
     "end_time": "2024-04-23T23:26:24.168753600Z",
     "start_time": "2024-04-23T23:26:24.098755800Z"
    }
   },
   "outputs": [
    {
     "data": {
      "text/plain": "  country  cluster_lat  cluster_lon   cons_pc  nightlights\n0      mw   -17.095150    35.217213  1.423239     0.025206\n1      mw   -17.092351    35.114643  1.266204     0.000000\n2      mw   -17.016698    35.079629  1.566870     0.000000\n3      mw   -16.977243    35.205706  1.669245     0.008266\n4      mw   -16.956385    35.168967  1.089891     0.002295",
      "text/html": "<div>\n<style scoped>\n    .dataframe tbody tr th:only-of-type {\n        vertical-align: middle;\n    }\n\n    .dataframe tbody tr th {\n        vertical-align: top;\n    }\n\n    .dataframe thead th {\n        text-align: right;\n    }\n</style>\n<table border=\"1\" class=\"dataframe\">\n  <thead>\n    <tr style=\"text-align: right;\">\n      <th></th>\n      <th>country</th>\n      <th>cluster_lat</th>\n      <th>cluster_lon</th>\n      <th>cons_pc</th>\n      <th>nightlights</th>\n    </tr>\n  </thead>\n  <tbody>\n    <tr>\n      <th>0</th>\n      <td>mw</td>\n      <td>-17.095150</td>\n      <td>35.217213</td>\n      <td>1.423239</td>\n      <td>0.025206</td>\n    </tr>\n    <tr>\n      <th>1</th>\n      <td>mw</td>\n      <td>-17.092351</td>\n      <td>35.114643</td>\n      <td>1.266204</td>\n      <td>0.000000</td>\n    </tr>\n    <tr>\n      <th>2</th>\n      <td>mw</td>\n      <td>-17.016698</td>\n      <td>35.079629</td>\n      <td>1.566870</td>\n      <td>0.000000</td>\n    </tr>\n    <tr>\n      <th>3</th>\n      <td>mw</td>\n      <td>-16.977243</td>\n      <td>35.205706</td>\n      <td>1.669245</td>\n      <td>0.008266</td>\n    </tr>\n    <tr>\n      <th>4</th>\n      <td>mw</td>\n      <td>-16.956385</td>\n      <td>35.168967</td>\n      <td>1.089891</td>\n      <td>0.002295</td>\n    </tr>\n  </tbody>\n</table>\n</div>"
     },
     "execution_count": 18,
     "metadata": {},
     "output_type": "execute_result"
    }
   ],
   "source": [
    "df_mw.head()"
   ]
  },
  {
   "cell_type": "code",
   "execution_count": 26,
   "metadata": {
    "ExecuteTime": {
     "end_time": "2024-04-23T10:23:12.548394600Z",
     "start_time": "2024-04-23T10:23:12.528394Z"
    }
   },
   "outputs": [
    {
     "data": {
      "text/plain": "  country  cluster_lat  cluster_lon    cons_pc  nightlights\n0     eth     3.455701    39.515994  14.854634          0.0\n1     eth     3.549937    39.184234  14.312022          0.0\n2     eth     3.864243    39.101366  12.470145          0.0\n3     eth     3.982931    38.491368   8.336539          0.0\n4     eth     4.048194    41.930928   4.762526          0.0",
      "text/html": "<div>\n<style scoped>\n    .dataframe tbody tr th:only-of-type {\n        vertical-align: middle;\n    }\n\n    .dataframe tbody tr th {\n        vertical-align: top;\n    }\n\n    .dataframe thead th {\n        text-align: right;\n    }\n</style>\n<table border=\"1\" class=\"dataframe\">\n  <thead>\n    <tr style=\"text-align: right;\">\n      <th></th>\n      <th>country</th>\n      <th>cluster_lat</th>\n      <th>cluster_lon</th>\n      <th>cons_pc</th>\n      <th>nightlights</th>\n    </tr>\n  </thead>\n  <tbody>\n    <tr>\n      <th>0</th>\n      <td>eth</td>\n      <td>3.455701</td>\n      <td>39.515994</td>\n      <td>14.854634</td>\n      <td>0.0</td>\n    </tr>\n    <tr>\n      <th>1</th>\n      <td>eth</td>\n      <td>3.549937</td>\n      <td>39.184234</td>\n      <td>14.312022</td>\n      <td>0.0</td>\n    </tr>\n    <tr>\n      <th>2</th>\n      <td>eth</td>\n      <td>3.864243</td>\n      <td>39.101366</td>\n      <td>12.470145</td>\n      <td>0.0</td>\n    </tr>\n    <tr>\n      <th>3</th>\n      <td>eth</td>\n      <td>3.982931</td>\n      <td>38.491368</td>\n      <td>8.336539</td>\n      <td>0.0</td>\n    </tr>\n    <tr>\n      <th>4</th>\n      <td>eth</td>\n      <td>4.048194</td>\n      <td>41.930928</td>\n      <td>4.762526</td>\n      <td>0.0</td>\n    </tr>\n  </tbody>\n</table>\n</div>"
     },
     "execution_count": 26,
     "metadata": {},
     "output_type": "execute_result"
    }
   ],
   "source": [
    "df_eth.head()"
   ]
  },
  {
   "cell_type": "code",
   "execution_count": 27,
   "metadata": {
    "ExecuteTime": {
     "end_time": "2024-04-23T10:23:13.524331300Z",
     "start_time": "2024-04-23T10:23:13.492335700Z"
    }
   },
   "outputs": [
    {
     "data": {
      "text/plain": "  country  cluster_lat  cluster_lon    cons_pc  nightlights\n0      ng     4.315786     6.268753   4.317717     0.123354\n1      ng     4.328719     6.308172   4.880711     0.013713\n2      ng     4.398427     7.183962   8.767258    38.470989\n3      ng     4.425192     7.166935  10.774504    40.519035\n4      ng     4.619377     7.684946   5.191333     0.000000",
      "text/html": "<div>\n<style scoped>\n    .dataframe tbody tr th:only-of-type {\n        vertical-align: middle;\n    }\n\n    .dataframe tbody tr th {\n        vertical-align: top;\n    }\n\n    .dataframe thead th {\n        text-align: right;\n    }\n</style>\n<table border=\"1\" class=\"dataframe\">\n  <thead>\n    <tr style=\"text-align: right;\">\n      <th></th>\n      <th>country</th>\n      <th>cluster_lat</th>\n      <th>cluster_lon</th>\n      <th>cons_pc</th>\n      <th>nightlights</th>\n    </tr>\n  </thead>\n  <tbody>\n    <tr>\n      <th>0</th>\n      <td>ng</td>\n      <td>4.315786</td>\n      <td>6.268753</td>\n      <td>4.317717</td>\n      <td>0.123354</td>\n    </tr>\n    <tr>\n      <th>1</th>\n      <td>ng</td>\n      <td>4.328719</td>\n      <td>6.308172</td>\n      <td>4.880711</td>\n      <td>0.013713</td>\n    </tr>\n    <tr>\n      <th>2</th>\n      <td>ng</td>\n      <td>4.398427</td>\n      <td>7.183962</td>\n      <td>8.767258</td>\n      <td>38.470989</td>\n    </tr>\n    <tr>\n      <th>3</th>\n      <td>ng</td>\n      <td>4.425192</td>\n      <td>7.166935</td>\n      <td>10.774504</td>\n      <td>40.519035</td>\n    </tr>\n    <tr>\n      <th>4</th>\n      <td>ng</td>\n      <td>4.619377</td>\n      <td>7.684946</td>\n      <td>5.191333</td>\n      <td>0.000000</td>\n    </tr>\n  </tbody>\n</table>\n</div>"
     },
     "execution_count": 27,
     "metadata": {},
     "output_type": "execute_result"
    }
   ],
   "source": [
    "df_ng.head()"
   ]
  },
  {
   "cell_type": "code",
   "execution_count": 28,
   "metadata": {
    "ExecuteTime": {
     "end_time": "2024-04-23T10:23:15.180898300Z",
     "start_time": "2024-04-23T10:23:15.163894700Z"
    }
   },
   "outputs": [
    {
     "data": {
      "text/plain": "0.6038163"
     },
     "execution_count": 28,
     "metadata": {},
     "output_type": "execute_result"
    }
   ],
   "source": [
    "df_mw['nightlights'].mean()"
   ]
  },
  {
   "cell_type": "code",
   "execution_count": 29,
   "metadata": {
    "ExecuteTime": {
     "end_time": "2024-04-23T10:23:18.086279100Z",
     "start_time": "2024-04-23T10:23:18.074274800Z"
    }
   },
   "outputs": [
    {
     "data": {
      "text/plain": "0.6727544"
     },
     "execution_count": 29,
     "metadata": {},
     "output_type": "execute_result"
    }
   ],
   "source": [
    "df_eth['nightlights'].mean()"
   ]
  },
  {
   "cell_type": "code",
   "execution_count": 30,
   "metadata": {
    "ExecuteTime": {
     "end_time": "2024-04-23T10:23:19.517673100Z",
     "start_time": "2024-04-23T10:23:19.492674400Z"
    }
   },
   "outputs": [
    {
     "data": {
      "text/plain": "1.6584013"
     },
     "execution_count": 30,
     "metadata": {},
     "output_type": "execute_result"
    }
   ],
   "source": [
    "df_ng['nightlights'].mean()"
   ]
  },
  {
   "cell_type": "code",
   "execution_count": 31,
   "metadata": {
    "ExecuteTime": {
     "end_time": "2024-04-23T10:23:20.407827800Z",
     "start_time": "2024-04-23T10:23:20.342824700Z"
    }
   },
   "outputs": [
    {
     "data": {
      "text/plain": "             cluster_lat  cluster_lon   cons_pc  nightlights\ncluster_lat     1.000000    -0.702793 -0.026563    -0.083273\ncluster_lon    -0.702793     1.000000 -0.002947    -0.033367\ncons_pc        -0.026563    -0.002947  1.000000     0.384939\nnightlights    -0.083273    -0.033367  0.384939     1.000000",
      "text/html": "<div>\n<style scoped>\n    .dataframe tbody tr th:only-of-type {\n        vertical-align: middle;\n    }\n\n    .dataframe tbody tr th {\n        vertical-align: top;\n    }\n\n    .dataframe thead th {\n        text-align: right;\n    }\n</style>\n<table border=\"1\" class=\"dataframe\">\n  <thead>\n    <tr style=\"text-align: right;\">\n      <th></th>\n      <th>cluster_lat</th>\n      <th>cluster_lon</th>\n      <th>cons_pc</th>\n      <th>nightlights</th>\n    </tr>\n  </thead>\n  <tbody>\n    <tr>\n      <th>cluster_lat</th>\n      <td>1.000000</td>\n      <td>-0.702793</td>\n      <td>-0.026563</td>\n      <td>-0.083273</td>\n    </tr>\n    <tr>\n      <th>cluster_lon</th>\n      <td>-0.702793</td>\n      <td>1.000000</td>\n      <td>-0.002947</td>\n      <td>-0.033367</td>\n    </tr>\n    <tr>\n      <th>cons_pc</th>\n      <td>-0.026563</td>\n      <td>-0.002947</td>\n      <td>1.000000</td>\n      <td>0.384939</td>\n    </tr>\n    <tr>\n      <th>nightlights</th>\n      <td>-0.083273</td>\n      <td>-0.033367</td>\n      <td>0.384939</td>\n      <td>1.000000</td>\n    </tr>\n  </tbody>\n</table>\n</div>"
     },
     "execution_count": 31,
     "metadata": {},
     "output_type": "execute_result"
    }
   ],
   "source": [
    "# Assuming 'country' is a non-numeric column\n",
    "df_mw_numeric = df_mw.drop('country', axis=1)\n",
    "correlation_matrix = df_mw_numeric.corr()\n",
    "correlation_matrix"
   ]
  },
  {
   "cell_type": "code",
   "execution_count": 32,
   "metadata": {
    "ExecuteTime": {
     "end_time": "2024-04-23T10:23:24.925848900Z",
     "start_time": "2024-04-23T10:23:24.887855700Z"
    }
   },
   "outputs": [
    {
     "data": {
      "text/plain": "             cluster_lat  cluster_lon   cons_pc  nightlights\ncluster_lat     1.000000     0.157130 -0.052673    -0.006627\ncluster_lon     0.157130     1.000000  0.211846     0.076039\ncons_pc        -0.052673     0.211846  1.000000     0.343879\nnightlights    -0.006627     0.076039  0.343879     1.000000",
      "text/html": "<div>\n<style scoped>\n    .dataframe tbody tr th:only-of-type {\n        vertical-align: middle;\n    }\n\n    .dataframe tbody tr th {\n        vertical-align: top;\n    }\n\n    .dataframe thead th {\n        text-align: right;\n    }\n</style>\n<table border=\"1\" class=\"dataframe\">\n  <thead>\n    <tr style=\"text-align: right;\">\n      <th></th>\n      <th>cluster_lat</th>\n      <th>cluster_lon</th>\n      <th>cons_pc</th>\n      <th>nightlights</th>\n    </tr>\n  </thead>\n  <tbody>\n    <tr>\n      <th>cluster_lat</th>\n      <td>1.000000</td>\n      <td>0.157130</td>\n      <td>-0.052673</td>\n      <td>-0.006627</td>\n    </tr>\n    <tr>\n      <th>cluster_lon</th>\n      <td>0.157130</td>\n      <td>1.000000</td>\n      <td>0.211846</td>\n      <td>0.076039</td>\n    </tr>\n    <tr>\n      <th>cons_pc</th>\n      <td>-0.052673</td>\n      <td>0.211846</td>\n      <td>1.000000</td>\n      <td>0.343879</td>\n    </tr>\n    <tr>\n      <th>nightlights</th>\n      <td>-0.006627</td>\n      <td>0.076039</td>\n      <td>0.343879</td>\n      <td>1.000000</td>\n    </tr>\n  </tbody>\n</table>\n</div>"
     },
     "execution_count": 32,
     "metadata": {},
     "output_type": "execute_result"
    }
   ],
   "source": [
    "df_eth_numeric = df_eth.drop('country', axis=1)\n",
    "correlation_matrix = df_eth_numeric.corr()\n",
    "correlation_matrix"
   ]
  },
  {
   "cell_type": "code",
   "execution_count": 33,
   "metadata": {
    "ExecuteTime": {
     "end_time": "2024-04-23T10:23:25.688983400Z",
     "start_time": "2024-04-23T10:23:25.658985200Z"
    }
   },
   "outputs": [
    {
     "data": {
      "text/plain": "             cluster_lat  cluster_lon   cons_pc  nightlights\ncluster_lat     1.000000     0.330910 -0.376356    -0.188281\ncluster_lon     0.330910     1.000000 -0.246189    -0.196671\ncons_pc        -0.376356    -0.246189  1.000000     0.264398\nnightlights    -0.188281    -0.196671  0.264398     1.000000",
      "text/html": "<div>\n<style scoped>\n    .dataframe tbody tr th:only-of-type {\n        vertical-align: middle;\n    }\n\n    .dataframe tbody tr th {\n        vertical-align: top;\n    }\n\n    .dataframe thead th {\n        text-align: right;\n    }\n</style>\n<table border=\"1\" class=\"dataframe\">\n  <thead>\n    <tr style=\"text-align: right;\">\n      <th></th>\n      <th>cluster_lat</th>\n      <th>cluster_lon</th>\n      <th>cons_pc</th>\n      <th>nightlights</th>\n    </tr>\n  </thead>\n  <tbody>\n    <tr>\n      <th>cluster_lat</th>\n      <td>1.000000</td>\n      <td>0.330910</td>\n      <td>-0.376356</td>\n      <td>-0.188281</td>\n    </tr>\n    <tr>\n      <th>cluster_lon</th>\n      <td>0.330910</td>\n      <td>1.000000</td>\n      <td>-0.246189</td>\n      <td>-0.196671</td>\n    </tr>\n    <tr>\n      <th>cons_pc</th>\n      <td>-0.376356</td>\n      <td>-0.246189</td>\n      <td>1.000000</td>\n      <td>0.264398</td>\n    </tr>\n    <tr>\n      <th>nightlights</th>\n      <td>-0.188281</td>\n      <td>-0.196671</td>\n      <td>0.264398</td>\n      <td>1.000000</td>\n    </tr>\n  </tbody>\n</table>\n</div>"
     },
     "execution_count": 33,
     "metadata": {},
     "output_type": "execute_result"
    }
   ],
   "source": [
    "df_ng_numeric = df_ng.drop('country', axis=1)\n",
    "correlation_matrix = df_ng_numeric.corr()\n",
    "correlation_matrix"
   ]
  },
  {
   "cell_type": "code",
   "execution_count": 34,
   "metadata": {
    "ExecuteTime": {
     "end_time": "2024-04-23T10:23:26.577472900Z",
     "start_time": "2024-04-23T10:23:26.544475500Z"
    }
   },
   "outputs": [],
   "source": [
    "for country in ['malawi_2016', 'ethiopia_2015', 'nigeria_2015']:\n",
    "    os.makedirs(os.path.join(COUNTRIES_DIR, country, 'processed'), exist_ok=True)"
   ]
  },
  {
   "cell_type": "code",
   "execution_count": 35,
   "metadata": {
    "ExecuteTime": {
     "end_time": "2024-04-23T10:23:27.693139400Z",
     "start_time": "2024-04-23T10:23:27.637795100Z"
    }
   },
   "outputs": [],
   "source": [
    "df_mw.to_csv(os.path.join(COUNTRIES_DIR, 'malawi_2016', 'processed/clusters.csv'), index=False)"
   ]
  },
  {
   "cell_type": "code",
   "execution_count": 36,
   "metadata": {
    "ExecuteTime": {
     "end_time": "2024-04-23T10:23:28.149202Z",
     "start_time": "2024-04-23T10:23:28.122201200Z"
    }
   },
   "outputs": [],
   "source": [
    "df_eth.to_csv(os.path.join(COUNTRIES_DIR, 'ethiopia_2015', 'processed/clusters.csv'), index=False)"
   ]
  },
  {
   "cell_type": "code",
   "execution_count": 37,
   "metadata": {
    "ExecuteTime": {
     "end_time": "2024-04-23T10:23:28.583211900Z",
     "start_time": "2024-04-23T10:23:28.553213500Z"
    }
   },
   "outputs": [],
   "source": [
    "df_ng.to_csv(os.path.join(COUNTRIES_DIR, 'nigeria_2015', 'processed/clusters.csv'), index=False)"
   ]
  },
  {
   "cell_type": "code",
   "execution_count": 38,
   "metadata": {
    "ExecuteTime": {
     "end_time": "2024-04-23T10:23:28.992710500Z",
     "start_time": "2024-04-23T10:23:28.983650700Z"
    }
   },
   "outputs": [
    {
     "name": "stdout",
     "output_type": "stream",
     "text": [
      "Total Clusters in Malawi: 780\n",
      "Total Clusters in Ethiopia: 523\n",
      "Total Clusters in Nigeria: 664\n"
     ]
    }
   ],
   "source": [
    "total_clusters_mw = df_mw.shape[0]\n",
    "total_clusters_eth = df_eth.shape[0]\n",
    "total_clusters_ng = df_ng.shape[0]\n",
    "\n",
    "print(f\"Total Clusters in Malawi: {total_clusters_mw}\")\n",
    "print(f\"Total Clusters in Ethiopia: {total_clusters_eth}\")\n",
    "print(f\"Total Clusters in Nigeria: {total_clusters_ng}\")\n"
   ]
  },
  {
   "cell_type": "code",
   "outputs": [
    {
     "name": "stdout",
     "output_type": "stream",
     "text": [
      "Area of the first cluster in Malawi: 0.008069703496826815 square kilometers\n"
     ]
    }
   ],
   "source": [
    "def calculate_cluster_area(lat, lon):\n",
    "    min_lat, min_lon, max_lat, max_lon = create_space(lat, lon)\n",
    "    area_km2 = (max_lat - min_lat) * (max_lon - min_lon)\n",
    "    return area_km2\n",
    "lat, lon = df_mw.iloc[0]['cluster_lat'], df_mw.iloc[0]['cluster_lon']\n",
    "area_cluster_mw = calculate_cluster_area(lat, lon)\n",
    "print(f\"Area of the first cluster in Malawi: {area_cluster_mw} square kilometers\")"
   ],
   "metadata": {
    "collapsed": false,
    "ExecuteTime": {
     "end_time": "2024-04-23T10:23:29.733776Z",
     "start_time": "2024-04-23T10:23:29.714773500Z"
    }
   },
   "execution_count": 39
  },
  {
   "cell_type": "code",
   "outputs": [
    {
     "name": "stdout",
     "output_type": "stream",
     "text": [
      "The side length of a square with an area of 0.008069703496826815 square kilometers is approximately 0.08983152841194908 kilometers.\n"
     ]
    }
   ],
   "source": [
    "import math\n",
    "\n",
    "# Given area in square kilometers\n",
    "area_km2 = 0.008069703496826815\n",
    "\n",
    "# Convert to linear measurement (side length of a square) in kilometers\n",
    "side_length_km = math.sqrt(area_km2)\n",
    "\n",
    "print(f\"The side length of a square with an area of {area_km2} square kilometers is approximately {side_length_km} kilometers.\")\n"
   ],
   "metadata": {
    "collapsed": false,
    "ExecuteTime": {
     "end_time": "2024-04-23T10:23:31.987017900Z",
     "start_time": "2024-04-23T10:23:31.963023700Z"
    }
   },
   "execution_count": 40
  },
  {
   "cell_type": "code",
   "outputs": [],
   "source": [],
   "metadata": {
    "collapsed": false
   }
  }
 ],
 "metadata": {
  "environment": {
   "name": "pytorch-gpu.1-4.m46",
   "type": "gcloud",
   "uri": "gcr.io/deeplearning-platform-release/pytorch-gpu.1-4:m46"
  },
  "kernelspec": {
   "name": "python3",
   "language": "python",
   "display_name": "Python 3 (ipykernel)"
  },
  "language_info": {
   "codemirror_mode": {
    "name": "ipython",
    "version": 3
   },
   "file_extension": ".py",
   "mimetype": "text/x-python",
   "name": "python",
   "nbconvert_exporter": "python",
   "pygments_lexer": "ipython3",
   "version": "3.7.6"
  }
 },
 "nbformat": 4,
 "nbformat_minor": 2
}
